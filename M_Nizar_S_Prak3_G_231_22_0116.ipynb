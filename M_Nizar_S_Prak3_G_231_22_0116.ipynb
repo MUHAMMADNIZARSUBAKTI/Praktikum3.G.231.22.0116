{
  "nbformat": 4,
  "nbformat_minor": 0,
  "metadata": {
    "colab": {
      "provenance": []
    },
    "kernelspec": {
      "name": "python3",
      "display_name": "Python 3"
    },
    "language_info": {
      "name": "python"
    }
  },
  "cells": [
    {
      "cell_type": "code",
      "execution_count": 1,
      "metadata": {
        "colab": {
          "base_uri": "https://localhost:8080/"
        },
        "id": "SqHsTHupL_NX",
        "outputId": "3ef013b6-8c04-4af0-9cff-a27f04797bb2"
      },
      "outputs": [
        {
          "output_type": "stream",
          "name": "stdout",
          "text": [
            " geeksforgeeks\n"
          ]
        }
      ],
      "source": [
        "def convert (s) :\n",
        "  new = \" \"\n",
        "  for x in s:\n",
        "    new += x\n",
        "\n",
        "  return new\n",
        "\n",
        "# driver code\n",
        "s = ['g', 'e', 'e', 'k', 's', 'f', 'o', 'r', 'g', 'e', 'e', 'k', 's']\n",
        "print(convert (s))"
      ]
    },
    {
      "cell_type": "code",
      "source": [
        "def list_to_string(s):\n",
        "  join = \" \"\n",
        "  for x in s:\n",
        "    join += x\n",
        "\n",
        "  return ''.join(s)\n",
        "\n",
        "# driver code\n",
        "s = ['p', 'r', 'o', 'g', 'r', 'a', 'm', 'm', 'i', 'n', 'g']\n",
        "print(convert (s))"
      ],
      "metadata": {
        "colab": {
          "base_uri": "https://localhost:8080/"
        },
        "id": "jjwdHCCGNRA_",
        "outputId": "a930eba6-f390-495c-8b2e-2a396dc27cca"
      },
      "execution_count": 2,
      "outputs": [
        {
          "output_type": "stream",
          "name": "stdout",
          "text": [
            " programming\n"
          ]
        }
      ]
    }
  ]
}